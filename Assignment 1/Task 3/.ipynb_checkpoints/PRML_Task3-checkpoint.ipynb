{
 "cells": [
  {
   "cell_type": "code",
   "execution_count": 1,
   "metadata": {},
   "outputs": [],
   "source": [
    "import numpy as np\n",
    "import pandas as pd\n",
    "import matplotlib.pyplot as plt\n",
    "\n",
    "data=pd.read_csv(\"1_bias_clean.csv\")\n",
    "\n"
   ]
  },
  {
   "cell_type": "code",
   "execution_count": 2,
   "metadata": {},
   "outputs": [],
   "source": [
    "data=data.dropna()"
   ]
  },
  {
   "cell_type": "code",
   "execution_count": 3,
   "metadata": {},
   "outputs": [],
   "source": [
    "data=data.to_numpy()\n",
    "size=int(np.ceil(0.7*data.shape[0]))\n",
    "X_train=data[:size]\n"
   ]
  },
  {
   "cell_type": "code",
   "execution_count": 4,
   "metadata": {},
   "outputs": [
    {
     "data": {
      "text/plain": [
       "(7588, 24)"
      ]
     },
     "execution_count": 4,
     "metadata": {},
     "output_type": "execute_result"
    }
   ],
   "source": [
    "data.shape"
   ]
  },
  {
   "cell_type": "code",
   "execution_count": 5,
   "metadata": {},
   "outputs": [],
   "source": [
    "t1=X_train[:,-2]\n",
    "t2=X_train[:,-1]"
   ]
  },
  {
   "cell_type": "code",
   "execution_count": 6,
   "metadata": {},
   "outputs": [
    {
     "data": {
      "text/plain": [
       "(5312, 22)"
      ]
     },
     "execution_count": 6,
     "metadata": {},
     "output_type": "execute_result"
    }
   ],
   "source": [
    "X=X_train[:,0:-2]\n",
    "X.shape"
   ]
  },
  {
   "cell_type": "code",
   "execution_count": null,
   "metadata": {},
   "outputs": [],
   "source": [
    "k=199 # number of clusters\n",
    "\n",
    "means = X[np.random.choice(range(len(X)), k, replace=False)]\n",
    "\n",
    "z_prev=np.full([1, len(X)], None)\n",
    "\n",
    "#Code perfoms clustering\n",
    "\n",
    "convergence=True\n",
    "count=0\n",
    "while(convergence):\n",
    "\n",
    "    b= np.full([1, len(X)], None)\n",
    "    for i in range(k):\n",
    "        dist=(np.linalg.norm(X-means[i],axis=1))**2\n",
    "        b=np.vstack((b,dist))\n",
    "\n",
    "\n",
    "    b=np.delete(b,0,axis=0)\n",
    "\n",
    "    z=np.argmin(b, axis=0)\n",
    "\n",
    "    if (z == z_prev).all():\n",
    "        break\n",
    "    z_prev=np.copy(z)\n",
    "\n",
    "\n",
    "    Z=np.zeros((len(X),k))\n",
    "\n",
    "    for i in range(len(X)):\n",
    "        Z[i,z[i]]=1\n",
    "\n",
    "    sum=np.sum(Z,axis=0)\n",
    "\n",
    "    SUM=np.matmul(X.T,Z)\n",
    "    for i in range(k):\n",
    "        SUM[:,i]=SUM[:,i]/sum[i]\n",
    "\n",
    "    means=SUM.T\n",
    "    count=count+1"
   ]
  },
  {
   "cell_type": "code",
   "execution_count": null,
   "metadata": {},
   "outputs": [],
   "source": [
    "count"
   ]
  },
  {
   "cell_type": "code",
   "execution_count": null,
   "metadata": {},
   "outputs": [],
   "source": [
    "for i in range(k):\n",
    "    print(means[i,0])"
   ]
  },
  {
   "cell_type": "code",
   "execution_count": null,
   "metadata": {
    "scrolled": true
   },
   "outputs": [],
   "source": [
    "import math\n",
    "#Phi function transforms input variable vector x into the basis function evaluated at x \n",
    "def Q_i(x, mu_i):\n",
    "    return math.exp(-1*((np.linalg.norm(x-mu_i))**2)/(sigma**2)) \n",
    "\n",
    "sigma = 300\n",
    "l=0\n",
    "\n",
    "def phi_matrix(X,means,k):\n",
    "    Q=np.zeros((len(X),k+1))\n",
    "    Q[:,0]=np.ones(len(X))\n",
    "    for i in range(len(X)):\n",
    "        for j in range(1,k+1):\n",
    "            Q[i][j]=Q_i(X[i], means[j-1])\n",
    "    return Q\n",
    "    \n",
    "Q=phi_matrix(X,means,k)    \n",
    "    \n",
    "\n",
    "Q_inv=np.matmul(np.linalg.inv(np.matmul(np.transpose(Q),Q)+l*np.identity(len(Q[1]))),np.transpose(Q))\n",
    "W1=np.matmul(Q_inv,np.transpose(t1))\n",
    "W2=np.matmul(Q_inv,np.transpose(t2))\n",
    "\n",
    "def y_estimate(Q,w):\n",
    "    return np.matmul(Q,w)\n",
    "\n",
    "y1_estimate=y_estimate(Q,W1)\n",
    "y2_estimate=y_estimate(Q,W2)\n",
    "\n",
    "fig1=plt.figure(1)\n",
    "plt.plot(t1,y1_estimate,'ro')\n",
    "plt.plot(t1,t1)\n",
    "\n",
    "fig2=plt.figure(2)\n",
    "plt.plot(t2,y2_estimate,'ro')\n",
    "plt.plot(t2,t2)\n",
    "plt.show()\n",
    "\n",
    "se1= (y1_estimate-t1)**2\n",
    "se2=(y2_estimate-t2)**2\n",
    "\n",
    "rms1=np.sqrt(np.mean(se1,axis=0))\n",
    "rms2=np.sqrt(np.mean(se2,axis=0))\n",
    "\n",
    "print(rms1,rms2)"
   ]
  },
  {
   "cell_type": "code",
   "execution_count": null,
   "metadata": {},
   "outputs": [],
   "source": [
    "fin=data.shape[0]"
   ]
  },
  {
   "cell_type": "code",
   "execution_count": null,
   "metadata": {},
   "outputs": [],
   "source": [
    "fin=int(np.ceil(0.9*fin))"
   ]
  },
  {
   "cell_type": "code",
   "execution_count": null,
   "metadata": {},
   "outputs": [],
   "source": [
    "fin"
   ]
  },
  {
   "cell_type": "code",
   "execution_count": null,
   "metadata": {},
   "outputs": [],
   "source": [
    "X_val=data[size+1:fin]"
   ]
  },
  {
   "cell_type": "code",
   "execution_count": null,
   "metadata": {},
   "outputs": [],
   "source": [
    "X_valid=X_val[:,0:-2]"
   ]
  },
  {
   "cell_type": "code",
   "execution_count": null,
   "metadata": {},
   "outputs": [],
   "source": [
    "t1_val=X_val[:,-2]\n",
    "t2_val=X_val[:,-1]"
   ]
  },
  {
   "cell_type": "code",
   "execution_count": null,
   "metadata": {},
   "outputs": [],
   "source": [
    "Q_val=phi_matrix(X_valid,means,k) \n",
    "\n",
    "y1_estimate_val=y_estimate(Q_val,W1)\n",
    "y2_estimate_val=y_estimate(Q_val,W2)\n",
    "\n",
    "fig3=plt.figure(3)\n",
    "plt.plot(t1_val,y1_estimate_val,'ro')\n",
    "plt.plot(t1_val,t1_val)\n",
    "\n",
    "fig4=plt.figure(4)\n",
    "plt.plot(t2_val,y2_estimate_val,'ro')\n",
    "plt.plot(t2_val,t2_val)\n",
    "plt.show()\n",
    "\n",
    "se1_val= (y1_estimate_val-t1_val)**2\n",
    "se2_val=(y2_estimate_val-t2_val)**2\n",
    "\n",
    "rms1_val=np.sqrt(np.mean(se1_val,axis=0))\n",
    "rms2_val=np.sqrt(np.mean(se2_val,axis=0))\n",
    "\n",
    "print(rms1_val,rms2_val)\n"
   ]
  },
  {
   "cell_type": "code",
   "execution_count": null,
   "metadata": {},
   "outputs": [],
   "source": []
  }
 ],
 "metadata": {
  "kernelspec": {
   "display_name": "Python 3",
   "language": "python",
   "name": "python3"
  },
  "language_info": {
   "codemirror_mode": {
    "name": "ipython",
    "version": 3
   },
   "file_extension": ".py",
   "mimetype": "text/x-python",
   "name": "python",
   "nbconvert_exporter": "python",
   "pygments_lexer": "ipython3",
   "version": "3.7.6"
  }
 },
 "nbformat": 4,
 "nbformat_minor": 4
}
