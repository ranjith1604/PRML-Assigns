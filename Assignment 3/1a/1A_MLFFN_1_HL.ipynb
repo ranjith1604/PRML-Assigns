{
 "cells": [
  {
   "cell_type": "code",
   "execution_count": 2,
   "metadata": {},
   "outputs": [],
   "source": [
    "import numpy as np\n",
    "import pandas as pd\n",
    "import matplotlib.pyplot as plt\n",
    "import math\n",
    "from statistics import mode\n",
    "from sklearn.metrics import accuracy_score\n",
    "from joblib import Parallel, delayed\n",
    "import multiprocessing\n",
    "import matplotlib\n",
    "import matplotlib.patches as mpatches\n",
    "from sklearn.metrics import confusion_matrix\n",
    "import seaborn as sn\n",
    "import os\n",
    "os.environ['CUDA_VISIBLE_DEVICES'] = '-1'\n",
    "\n",
    "import tensorflow as tf\n",
    "from tensorflow import keras\n",
    "#tf.config.list_physical_devices('GPU')\n",
    "from tensorflow.keras.models import Sequential\n",
    "from tensorflow.keras.layers import Activation\n",
    "from tensorflow.keras.optimizers import SGD\n",
    "from tensorflow.keras.layers import Dense\n",
    "\n",
    "#from tensorflow.python.client import device_lib\n",
    "#print(device_lib.list_local_devices())\n",
    "\n",
    "from tensorflow.python.client import device_lib\n",
    "#assert 'GPU' in str(device_lib.list_local_devices())\n",
    "#print(device_lib.list_local_devices())\n",
    "\n",
    "# confirm Keras sees the GPU\n",
    "\n",
    "\n",
    "\n",
    "\n",
    "plt.rcParams['mathtext.fontset'] = 'cm'\n",
    "plt.rcParams['font.family'] = 'STIXGeneral'\n",
    "plt.rcParams['font.size'] = 15\n",
    "plt.rcParams[\"figure.figsize\"] = (8,8)"
   ]
  },
  {
   "cell_type": "code",
   "execution_count": 3,
   "metadata": {},
   "outputs": [],
   "source": [
    "data=pd.read_csv(\"19/train.csv\",header=None)"
   ]
  },
  {
   "cell_type": "code",
   "execution_count": 4,
   "metadata": {},
   "outputs": [],
   "source": [
    "Y_train=np.zeros((len(data),4))\n",
    "data=data.to_numpy()\n",
    "\n",
    "\n",
    "X_train=data[:,0:2]\n",
    "labels =data[:,2].astype(int)\n",
    "\n",
    "for i in range(len(data)):\n",
    "    Y_train[i,labels[i]]=1"
   ]
  },
  {
   "cell_type": "code",
   "execution_count": 8,
   "metadata": {
    "scrolled": false
   },
   "outputs": [
    {
     "name": "stdout",
     "output_type": "stream",
     "text": [
      "[INFO] compiling model...\n",
      "Epoch 1/20\n",
      "800/800 [==============================] - 1s 474us/step - loss: 0.7577 - accuracy: 0.7034\n",
      "Epoch 2/20\n",
      "800/800 [==============================] - 0s 468us/step - loss: 0.0842 - accuracy: 0.9983\n",
      "Epoch 3/20\n",
      "800/800 [==============================] - 0s 458us/step - loss: 0.0335 - accuracy: 1.0000\n",
      "Epoch 4/20\n",
      "800/800 [==============================] - 0s 457us/step - loss: 0.0179 - accuracy: 1.0000\n",
      "Epoch 5/20\n",
      "800/800 [==============================] - 0s 454us/step - loss: 0.0109 - accuracy: 1.0000\n",
      "Epoch 6/20\n",
      "800/800 [==============================] - 0s 454us/step - loss: 0.0080 - accuracy: 1.0000\n",
      "Epoch 7/20\n",
      "800/800 [==============================] - 0s 452us/step - loss: 0.0098 - accuracy: 1.0000\n",
      "Epoch 8/20\n",
      "800/800 [==============================] - 0s 449us/step - loss: 0.0054 - accuracy: 0.9999\n",
      "Epoch 9/20\n",
      "800/800 [==============================] - 0s 457us/step - loss: 0.0048 - accuracy: 1.0000\n",
      "Epoch 10/20\n",
      "800/800 [==============================] - 0s 457us/step - loss: 0.0048 - accuracy: 1.0000\n",
      "Epoch 11/20\n",
      "800/800 [==============================] - 0s 459us/step - loss: 0.0031 - accuracy: 1.0000\n",
      "Epoch 12/20\n",
      "800/800 [==============================] - 0s 466us/step - loss: 0.0030 - accuracy: 1.0000\n",
      "Epoch 13/20\n",
      "800/800 [==============================] - 0s 458us/step - loss: 0.0030 - accuracy: 0.9997\n",
      "Epoch 14/20\n",
      "800/800 [==============================] - 0s 457us/step - loss: 0.0043 - accuracy: 0.9987\n",
      "Epoch 15/20\n",
      "800/800 [==============================] - 0s 458us/step - loss: 0.0023 - accuracy: 1.0000\n",
      "Epoch 16/20\n",
      "800/800 [==============================] - 0s 452us/step - loss: 0.0381 - accuracy: 0.9912\n",
      "Epoch 17/20\n",
      "800/800 [==============================] - 0s 474us/step - loss: 0.0029 - accuracy: 1.0000\n",
      "Epoch 18/20\n",
      "800/800 [==============================] - 0s 459us/step - loss: 0.0027 - accuracy: 0.9995\n",
      "Epoch 19/20\n",
      "800/800 [==============================] - 0s 467us/step - loss: 0.0022 - accuracy: 1.0000\n",
      "Epoch 20/20\n",
      "800/800 [==============================] - 0s 456us/step - loss: 0.0129 - accuracy: 0.9948\n",
      "800/800 [==============================] - 0s 424us/step - loss: 0.0019 - accuracy: 1.0000\n",
      "\n",
      "\n",
      " [INFO] loss=0.0019, accuracy: 100.0000%\n"
     ]
    }
   ],
   "source": [
    "# define the architecture of the network\n",
    "\n",
    "np.random.seed(42)\n",
    "model = Sequential()\n",
    "model.add(Dense(20, input_dim=2,kernel_initializer=\"uniform\", activation='relu'))\n",
    "model.add(Dense(20, activation='relu', kernel_initializer=\"uniform\"))\n",
    "model.add(Dense(4, activation='softmax'))\n",
    "\n",
    "\n",
    "# train the model using SGD\n",
    "print(\"[INFO] compiling model...\")\n",
    "\n",
    "# compile the keras model\n",
    "\n",
    "# sgd = SGD(lr=0.01)\n",
    "model.compile(loss=\"categorical_crossentropy\", optimizer='sgd', metrics=[\"accuracy\"])\n",
    "\n",
    "\n",
    "# fit the keras model on the dataset\n",
    "model.fit(X_train, Y_train, epochs=20, batch_size=1,verbose=1)\n",
    "\n",
    "\n",
    "# evaluate the keras model\n",
    "loss, accuracy = model.evaluate(X_train, Y_train,batch_size=1,verbose=1)\n",
    "print(\"\\n\\n [INFO] loss={:.4f}, accuracy: {:.4f}%\".format(loss,accuracy * 100))\n",
    "\n",
    "\n",
    "\n"
   ]
  },
  {
   "cell_type": "code",
   "execution_count": 9,
   "metadata": {},
   "outputs": [],
   "source": [
    "data=pd.read_csv(\"19/dev.csv\",header=None)\n",
    "data=data.to_numpy()\n",
    "\n",
    "X_valid=data[0:60,0:2]\n",
    "labels_valid=data[0:60,2].astype(int)\n",
    "\n",
    "X_test=data[60:120,0:2]\n",
    "labels_test=data[60:120,2].astype(int)\n",
    "\n",
    "\n",
    "Y_valid=np.zeros((len(X_valid),4))\n",
    "Y_test=np.zeros((len(X_test),4))\n",
    "\n",
    "\n",
    "for i in range(len(X_valid)):\n",
    "    Y_valid[i,labels_valid[i]]=1\n",
    "\n",
    "    \n",
    "for i in range(len(X_test)):\n",
    "    Y_test[i,labels_test[i]]=1\n"
   ]
  },
  {
   "cell_type": "code",
   "execution_count": 10,
   "metadata": {},
   "outputs": [
    {
     "name": "stdout",
     "output_type": "stream",
     "text": [
      "6/6 [==============================] - 0s 1ms/step - loss: 9.2499e-04 - accuracy: 1.0000\n",
      "\n",
      "\n",
      " [INFO] loss=0.0009, accuracy: 100.0000%\n"
     ]
    }
   ],
   "source": [
    "loss, accuracy = model.evaluate(X_valid, Y_valid,batch_size=10,verbose=1)\n",
    "print(\"\\n\\n [INFO] loss={:.4f}, accuracy: {:.4f}%\".format(loss,accuracy * 100))"
   ]
  },
  {
   "cell_type": "code",
   "execution_count": 11,
   "metadata": {},
   "outputs": [
    {
     "name": "stdout",
     "output_type": "stream",
     "text": [
      "6/6 [==============================] - 0s 1ms/step - loss: 0.0011 - accuracy: 1.0000\n",
      "\n",
      "\n",
      " [INFO] loss=0.0011, accuracy: 100.0000%\n"
     ]
    }
   ],
   "source": [
    "loss, accuracy = model.evaluate(X_test, Y_test,batch_size=10,verbose=1)\n",
    "print(\"\\n\\n [INFO] loss={:.4f}, accuracy: {:.4f}%\".format(loss,accuracy * 100))"
   ]
  },
  {
   "cell_type": "code",
   "execution_count": 12,
   "metadata": {},
   "outputs": [
    {
     "name": "stdout",
     "output_type": "stream",
     "text": [
      "Model: \"sequential_3\"\n",
      "_________________________________________________________________\n",
      "Layer (type)                 Output Shape              Param #   \n",
      "=================================================================\n",
      "dense_9 (Dense)              (None, 20)                60        \n",
      "_________________________________________________________________\n",
      "dense_10 (Dense)             (None, 20)                420       \n",
      "_________________________________________________________________\n",
      "dense_11 (Dense)             (None, 4)                 84        \n",
      "=================================================================\n",
      "Total params: 564\n",
      "Trainable params: 564\n",
      "Non-trainable params: 0\n",
      "_________________________________________________________________\n"
     ]
    }
   ],
   "source": [
    "model.summary()"
   ]
  },
  {
   "cell_type": "code",
   "execution_count": null,
   "metadata": {},
   "outputs": [],
   "source": []
  }
 ],
 "metadata": {
  "kernelspec": {
   "display_name": "Python 3",
   "language": "python",
   "name": "python3"
  },
  "language_info": {
   "codemirror_mode": {
    "name": "ipython",
    "version": 3
   },
   "file_extension": ".py",
   "mimetype": "text/x-python",
   "name": "python",
   "nbconvert_exporter": "python",
   "pygments_lexer": "ipython3",
   "version": "3.8.5"
  }
 },
 "nbformat": 4,
 "nbformat_minor": 5
}
